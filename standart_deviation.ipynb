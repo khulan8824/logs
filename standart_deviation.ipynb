{
 "cells": [
  {
   "cell_type": "code",
   "execution_count": 19,
   "metadata": {
    "collapsed": true
   },
   "outputs": [],
   "source": [
    "import os\n",
    "#import ipdb\n",
    "\n",
    "import pandas as pd\n",
    "import matplotlib as mpl\n",
    "from matplotlib import lines\n",
    "from matplotlib import pyplot as plt\n",
    "import matplotlib.dates as mdates\n",
    "\n",
    "EXP_NAME = \"c11\"\n",
    "headers = ['time','start_transfer', 'latency','gateway','status']\n",
    "def read_client():\n",
    "    INPUT_DIR = os.path.join( os.getcwd(), EXP_NAME)\n",
    "    data = pd.DataFrame()\n",
    "    dirs = [f for f in os.listdir(INPUT_DIR) if os.path.isdir(os.path.join(INPUT_DIR))]    \n",
    "    for client in dirs:\n",
    "        client_data = pd.read_csv(os.path.join(INPUT_DIR, client), sep=',')\n",
    "        client_data.columns= headers\n",
    "        client_data = client_data.set_index(pd.DatetimeIndex(client_data.time))\n",
    "        client_data = client_data.query('status == 200')\n",
    "        data = pd.concat([data, client_data])\n",
    "    return data\n",
    "    \n",
    "def getECDF(df,column):\n",
    "    \"\"\"Helper function that caclulates the ECDF of a dataframe\"\"\"\n",
    "    df = df[column].value_counts()\n",
    "    ecdf = df.sort_index().cumsum()*1./df.sum()    \n",
    "    return ecdf"
   ]
  },
  {
   "cell_type": "code",
   "execution_count": 27,
   "metadata": {},
   "outputs": [
    {
     "name": "stdout",
     "output_type": "stream",
     "text": [
      "<class 'pandas.core.frame.DataFrame'> <class 'pandas.core.frame.DataFrame'>\n",
      "<class 'pandas.core.frame.DataFrame'> <class 'pandas.core.frame.DataFrame'>\n",
      "<class 'pandas.core.frame.DataFrame'> <class 'pandas.core.frame.DataFrame'>\n",
      "<class 'pandas.core.frame.DataFrame'> <class 'pandas.core.frame.DataFrame'>\n",
      "<class 'pandas.core.frame.DataFrame'> <class 'pandas.core.frame.DataFrame'>\n",
      "<class 'pandas.core.frame.DataFrame'> <class 'pandas.core.frame.DataFrame'>\n",
      "<class 'pandas.core.frame.DataFrame'> <class 'pandas.core.frame.DataFrame'>\n",
      "<class 'pandas.core.frame.DataFrame'> <class 'pandas.core.frame.DataFrame'>\n",
      "<class 'pandas.core.frame.DataFrame'> <class 'pandas.core.frame.DataFrame'>\n",
      "<class 'pandas.core.frame.DataFrame'> <class 'pandas.core.frame.DataFrame'>\n",
      "<class 'pandas.core.frame.DataFrame'> <class 'pandas.core.frame.DataFrame'>\n",
      "<class 'pandas.core.frame.DataFrame'> <class 'pandas.core.frame.DataFrame'>\n",
      "<class 'pandas.core.frame.DataFrame'> <class 'pandas.core.frame.DataFrame'>\n",
      "<class 'pandas.core.frame.DataFrame'> <class 'pandas.core.frame.DataFrame'>\n",
      "<class 'pandas.core.frame.DataFrame'> <class 'pandas.core.frame.DataFrame'>\n",
      "<class 'pandas.core.frame.DataFrame'> <class 'pandas.core.frame.DataFrame'>\n",
      "<class 'pandas.core.frame.DataFrame'> <class 'pandas.core.frame.DataFrame'>\n",
      "<class 'pandas.core.frame.DataFrame'> <class 'pandas.core.frame.DataFrame'>\n",
      "<class 'pandas.core.frame.DataFrame'> <class 'pandas.core.frame.DataFrame'>\n",
      "<class 'pandas.core.frame.DataFrame'> <class 'pandas.core.frame.DataFrame'>\n"
     ]
    }
   ],
   "source": [
    "data = read_client()\n",
    "\n",
    "data.index = data.index.map(lambda x: x.replace(second=0))\n",
    "data.index = data.index.map(lambda x: x.replace(microsecond=0))\n",
    "\n",
    "std_data = data['latency'].resample('T').mean().sort_index().rolling('10T').std().to_frame()\n",
    "mean_data = data['latency'].resample('T').mean().sort_index().rolling('10T').mean().to_frame()\n",
    "general  = pd.merge(std_data, mean_data, how='inner', left_index=True, right_index=True)\n",
    "\n",
    "for name, group in data.groupby(data['gateway']): \n",
    "    group = group.groupby(group.index).mean()\n",
    "    group_std = group['latency'].sort_index().rolling('10T').std().to_frame()\n",
    "    group_mean = group['latency'].sort_index().rolling('10T').mean().to_frame()\n",
    "    #print(group_std.head())\n",
    "    #print(group_mean.())\n",
    "    \n",
    "    merged_group = pd.merge(group_std, group_mean, how='inner', left_index=True, right_index=True)\n",
    "    \n",
    "    merged_group = pd.merge(merged_group,group['latency'].to_frame(), how ='inner', left_index = True , right_index=True)\n",
    "    merged_group = pd.merge(general, merged_group, how='inner', left_index = True, right_index=True)\n",
    "    \n",
    "    merged_group.columns=['general_std','general_mean','group_std','group_mean','latency']\n",
    "    \n",
    "    merged_group.to_csv('std_dev/'+name)\n",
    "    #print(name, group.query(\"latency <= \"+str(group.latency.quantile(0.99)))['latency'].mean())\n",
    "    #print(name, group['latency'].mean())\n",
    "    #group['latency'].plot()\n",
    "\n",
    "#plt.ylim(0,1)\n",
    "#plt.show()"
   ]
  },
  {
   "cell_type": "code",
   "execution_count": 2,
   "metadata": {},
   "outputs": [
    {
     "name": "stderr",
     "output_type": "stream",
     "text": [
      "/home/khulan/.local/lib/python3.6/site-packages/ipykernel_launcher.py:24: DeprecationWarning: \n",
      ".ix is deprecated. Please use\n",
      ".loc for label based indexing or\n",
      ".iloc for positional indexing\n",
      "\n",
      "See the documentation here:\n",
      "http://pandas.pydata.org/pandas-docs/stable/indexing.html#ix-indexer-is-deprecated\n"
     ]
    },
    {
     "name": "stdout",
     "output_type": "stream",
     "text": [
      "proxy.malla.guifi.net 1428\n",
      "proxy.muntanyola.guifi.net 1428\n",
      "proxy.olost.guifi.net 1376\n",
      "10.228.193.210 0\n",
      "10.228.192.210 1441\n",
      "10.139.94.98 1429\n",
      "10.139.37.194 1441\n",
      "proxy.sbll.guifi.net 1375\n",
      "10.138.57.2 1441\n",
      "10.138.25.67 1441\n",
      "10.139.17.4 1441\n",
      "10.138.85.130 1441\n",
      "10.138.120.66 1441\n",
      "proxy.perafita.guifi.net 1376\n",
      "10.139.40.122 1441\n",
      "proxy.elpipa.guifi.net 1429\n",
      "10.140.93.35 1440\n",
      "proxy.smc.guifi.net 603\n",
      "10.139.40.85 1441\n",
      "proxy.cecilia.guifi.net 1429\n"
     ]
    }
   ],
   "source": [
    "import os\n",
    "#import ipdb\n",
    "\n",
    "import pandas as pd\n",
    "import matplotlib as mpl\n",
    "from matplotlib import lines\n",
    "from matplotlib import pyplot as plt\n",
    "import matplotlib.dates as mdates\n",
    "\n",
    "EXP_NAME = \"std_dev\"\n",
    "# Read all standard deviation files of each gateway node and count what category nodes are at each time period\n",
    "def read_std():\n",
    "    INPUT_DIR = os.path.join( os.getcwd(), EXP_NAME)\n",
    "    data = pd.DataFrame()\n",
    "    dirs = [f for f in os.listdir(INPUT_DIR) if os.path.isdir(os.path.join(INPUT_DIR))]    \n",
    "    for client in dirs:\n",
    "        client_data = pd.read_csv(os.path.join(INPUT_DIR, client), sep=',')\n",
    "        client_data = client_data.set_index(pd.DatetimeIndex(client_data.time))\n",
    "        count_good = 0\n",
    "        count_bad = 0\n",
    "        count_inconsistent = 0\n",
    "        #client_data = client_data.tail(1000)\n",
    "        #['general_std','general_mean','group_std','group_mean','latency']\n",
    "        client_data = client_data.ix['2019-01-24 00:00':'2019-01-25 00:00']\n",
    "        #client_data['latency'].plot()\n",
    "        #plt.ylim(0,3)\n",
    "        #plt.show()\n",
    "        print(client, len(client_data))\n",
    "        for index, row in client_data.iterrows():                   \n",
    "            client_data.loc[index, 'gateway'] = client\n",
    "            if row['general_mean'] is None:\n",
    "                continue\n",
    "            if row['latency'] <= row['general_mean']:\n",
    "                if row['group_std'] <= row['general_std']:\n",
    "                    client_data.loc[index, 'category'] = 'Good'\n",
    "                    count_good +=1\n",
    "                else:\n",
    "                    if count_inconsistent<count_good:\n",
    "                        client_data.loc[index, 'category'] = 'Inconsistent good'\n",
    "                    else:\n",
    "                        client_data.loc[index, 'category'] = 'Inconsistent'\n",
    "                    count_inconsistent +=1\n",
    "            else:\n",
    "                if row['group_std'] < row['general_std']:                    \n",
    "                    if count_inconsistent<count_good:\n",
    "                        client_data.loc[index, 'category'] = 'Inconsistent good'\n",
    "                    else:\n",
    "                        client_data.loc[index, 'category'] = 'Inconsistent'\n",
    "                    count_inconsistent +=1\n",
    "                else:\n",
    "                    client_data.loc[index, 'category'] = 'Bad'\n",
    "                    count_bad +=1\n",
    "            client_data.loc[index, 'count_good'] = count_good\n",
    "            client_data.loc[index, 'count_bad'] = count_bad\n",
    "            client_data.loc[index, 'count_inconsistent'] = count_inconsistent\n",
    "        \n",
    "        data = pd.concat([data, client_data])\n",
    "    return data\n",
    "category_data = read_std()"
   ]
  },
  {
   "cell_type": "code",
   "execution_count": 3,
   "metadata": {
    "collapsed": true
   },
   "outputs": [],
   "source": [
    "category_data.to_csv('categorized.csv')"
   ]
  },
  {
   "cell_type": "code",
   "execution_count": 30,
   "metadata": {
    "collapsed": true
   },
   "outputs": [],
   "source": [
    "#category_data.index = category_data.index.map(lambda x: x.replace(second=0))\n",
    "#category_data.index = category_data.index.map(lambda x: x.replace(microsecond=0))\n",
    "#category_data = category_data.ix['2019-02-09 00:00':'2019-02-10 00:00']\n",
    "category_data = category_data.sort_index()\n",
    "#category_data.to_csv('help.csv')\n",
    "counted_df = category_data.groupby([category_data.index, category_data['category']]).count()['latency'].unstack()\n",
    "#print(counted_df)\n",
    "counted_df.resample('T').mean().to_csv('category_out.csv')\n",
    "\n",
    "#counted_df.resample('H').mean().plot()\n",
    "#plt.show()\n"
   ]
  },
  {
   "cell_type": "code",
   "execution_count": 31,
   "metadata": {},
   "outputs": [
    {
     "name": "stdout",
     "output_type": "stream",
     "text": [
      "               Bad         Good  Inconsistent good  Inconsistent limited\n",
      "count  1266.000000  1441.000000         990.000000           1299.000000\n",
      "mean      3.307267    11.356003           1.854545              2.998460\n",
      "std       1.546505     2.737138           0.866787              1.241922\n",
      "min       1.000000     3.000000           1.000000              1.000000\n",
      "25%       2.000000    10.000000           1.000000              2.000000\n",
      "50%       3.000000    11.000000           2.000000              3.000000\n",
      "75%       4.000000    12.000000           2.000000              4.000000\n",
      "max       9.000000    18.000000           5.000000              9.000000\n"
     ]
    },
    {
     "data": {
      "image/png": "[encoded data removed]",
      "text/plain": [
       "<matplotlib.figure.Figure at 0x7fe3e7dcd550>"
      ]
     },
     "metadata": {},
     "output_type": "display_data"
    }
   ],
   "source": [
    "category_df = pd.read_csv('category_out.csv')\n",
    "category_df = category_df.set_index(pd.DatetimeIndex(category_df.time))\n",
    "\n",
    "#category_df = category_df.query('Good <= 20')\n",
    "#getECDF(category_df,'Good').plot()\n",
    "#getECDF(category_df,'Inconsistent').plot()\n",
    "#getECDF(category_df,'Bad').plot()\n",
    "\n",
    "print(category_df.describe())\n",
    "plt.show()\n",
    "\n",
    "category_df.plot()\n",
    "plt.show()"
   ]
  },
  {
   "cell_type": "code",
   "execution_count": 3,
   "metadata": {},
   "outputs": [
    {
     "name": "stderr",
     "output_type": "stream",
     "text": [
      "/home/khulan/.local/lib/python3.6/site-packages/ipykernel_launcher.py:21: DeprecationWarning: \n",
      ".ix is deprecated. Please use\n",
      ".loc for label based indexing or\n",
      ".iloc for positional indexing\n",
      "\n",
      "See the documentation here:\n",
      "http://pandas.pydata.org/pandas-docs/stable/indexing.html#ix-indexer-is-deprecated\n"
     ]
    },
    {
     "name": "stdout",
     "output_type": "stream",
     "text": [
      "proxy.malla.guifi.net\n",
      "proxy.muntanyola.guifi.net\n",
      "proxy.olost.guifi.net\n",
      "10.228.193.210\n",
      "10.228.192.210\n",
      "10.139.94.98\n",
      "10.139.37.194\n",
      "proxy.sbll.guifi.net\n",
      "10.138.57.2\n",
      "10.138.25.67\n",
      "10.139.17.4\n",
      "10.138.85.130\n",
      "10.138.120.66\n",
      "proxy.perafita.guifi.net\n",
      "10.139.40.122\n",
      "proxy.elpipa.guifi.net\n",
      "10.140.93.35\n",
      "proxy.smc.guifi.net\n",
      "10.139.40.85\n",
      "proxy.cecilia.guifi.net\n"
     ]
    }
   ],
   "source": [
    "import os\n",
    "#import ipdb\n",
    "\n",
    "import pandas as pd\n",
    "import matplotlib as mpl\n",
    "from matplotlib import lines\n",
    "from matplotlib import pyplot as plt\n",
    "import matplotlib.dates as mdates\n",
    "\n",
    "EXP_NAME = \"std_dev\"\n",
    "# Read all standard deviation files of each gateway node and count what category nodes are at each time period\n",
    "def categorize_by_latency():\n",
    "    INPUT_DIR = os.path.join( os.getcwd(), EXP_NAME)\n",
    "    data = pd.DataFrame()\n",
    "    dirs = [f for f in os.listdir(INPUT_DIR) if os.path.isdir(os.path.join(INPUT_DIR))]    \n",
    "    for client in dirs:\n",
    "        client_data = pd.read_csv(os.path.join(INPUT_DIR, client), sep=',')\n",
    "        client_data = client_data.set_index(pd.DatetimeIndex(client_data.time))\n",
    "        #client_data = client_data.tail(1000)\n",
    "        \n",
    "        client_data = client_data.ix['2019-01-24 00:00':'2019-01-25 00:00']\n",
    "        print(client)\n",
    "        for index, row in client_data.iterrows():            \n",
    "            client_data.loc[index, 'gateway'] = client\n",
    "            if row['general_mean'] is None:\n",
    "                continue\n",
    "            if row['latency'] <= row['general_mean']:\n",
    "                client_data.loc[index, 'category'] = 'Good'\n",
    "            else:\n",
    "                client_data.loc[index, 'category'] = 'Bad'\n",
    "        \n",
    "        data = pd.concat([data, client_data])\n",
    "    return data\n",
    "latency_category_data = categorize_by_latency()"
   ]
  },
  {
   "cell_type": "code",
   "execution_count": 4,
   "metadata": {},
   "outputs": [
    {
     "data": {
      "text/html": [
       "<div>\n",
       "<style scoped>\n",
       "    .dataframe tbody tr th:only-of-type {\n",
       "        vertical-align: middle;\n",
       "    }\n",
       "\n",
       "    .dataframe tbody tr th {\n",
       "        vertical-align: top;\n",
       "    }\n",
       "\n",
       "    .dataframe thead th {\n",
       "        text-align: right;\n",
       "    }\n",
       "</style>\n",
       "<table border=\"1\" class=\"dataframe\">\n",
       "  <thead>\n",
       "    <tr style=\"text-align: right;\">\n",
       "      <th></th>\n",
       "      <th>category</th>\n",
       "      <th>gateway</th>\n",
       "      <th>general_mean</th>\n",
       "      <th>general_std</th>\n",
       "      <th>group_mean</th>\n",
       "      <th>group_std</th>\n",
       "      <th>latency</th>\n",
       "      <th>time</th>\n",
       "    </tr>\n",
       "    <tr>\n",
       "      <th>time</th>\n",
       "      <th></th>\n",
       "      <th></th>\n",
       "      <th></th>\n",
       "      <th></th>\n",
       "      <th></th>\n",
       "      <th></th>\n",
       "      <th></th>\n",
       "      <th></th>\n",
       "    </tr>\n",
       "  </thead>\n",
       "  <tbody>\n",
       "    <tr>\n",
       "      <th>2019-01-24 00:00:00</th>\n",
       "      <td>Bad</td>\n",
       "      <td>proxy.malla.guifi.net</td>\n",
       "      <td>0.280004</td>\n",
       "      <td>0.088565</td>\n",
       "      <td>0.288472</td>\n",
       "      <td>0.031420</td>\n",
       "      <td>0.293633</td>\n",
       "      <td>2019-01-24 00:00:00</td>\n",
       "    </tr>\n",
       "    <tr>\n",
       "      <th>2019-01-24 00:01:00</th>\n",
       "      <td>Bad</td>\n",
       "      <td>proxy.malla.guifi.net</td>\n",
       "      <td>0.278556</td>\n",
       "      <td>0.089252</td>\n",
       "      <td>0.299430</td>\n",
       "      <td>0.037201</td>\n",
       "      <td>0.365029</td>\n",
       "      <td>2019-01-24 00:01:00</td>\n",
       "    </tr>\n",
       "    <tr>\n",
       "      <th>2019-01-24 00:02:00</th>\n",
       "      <td>Good</td>\n",
       "      <td>proxy.malla.guifi.net</td>\n",
       "      <td>0.285162</td>\n",
       "      <td>0.086384</td>\n",
       "      <td>0.288362</td>\n",
       "      <td>0.046535</td>\n",
       "      <td>0.206777</td>\n",
       "      <td>2019-01-24 00:02:00</td>\n",
       "    </tr>\n",
       "    <tr>\n",
       "      <th>2019-01-24 00:03:00</th>\n",
       "      <td>Good</td>\n",
       "      <td>proxy.malla.guifi.net</td>\n",
       "      <td>0.256158</td>\n",
       "      <td>0.035975</td>\n",
       "      <td>0.284875</td>\n",
       "      <td>0.047974</td>\n",
       "      <td>0.251630</td>\n",
       "      <td>2019-01-24 00:03:00</td>\n",
       "    </tr>\n",
       "    <tr>\n",
       "      <th>2019-01-24 00:04:00</th>\n",
       "      <td>Bad</td>\n",
       "      <td>proxy.malla.guifi.net</td>\n",
       "      <td>0.255814</td>\n",
       "      <td>0.036420</td>\n",
       "      <td>0.287374</td>\n",
       "      <td>0.047378</td>\n",
       "      <td>0.288386</td>\n",
       "      <td>2019-01-24 00:04:00</td>\n",
       "    </tr>\n",
       "  </tbody>\n",
       "</table>\n",
       "</div>"
      ],
      "text/plain": [
       "                    category                gateway  general_mean  \\\n",
       "time                                                                \n",
       "2019-01-24 00:00:00      Bad  proxy.malla.guifi.net      0.280004   \n",
       "2019-01-24 00:01:00      Bad  proxy.malla.guifi.net      0.278556   \n",
       "2019-01-24 00:02:00     Good  proxy.malla.guifi.net      0.285162   \n",
       "2019-01-24 00:03:00     Good  proxy.malla.guifi.net      0.256158   \n",
       "2019-01-24 00:04:00      Bad  proxy.malla.guifi.net      0.255814   \n",
       "\n",
       "                     general_std  group_mean  group_std   latency  \\\n",
       "time                                                                \n",
       "2019-01-24 00:00:00     0.088565    0.288472   0.031420  0.293633   \n",
       "2019-01-24 00:01:00     0.089252    0.299430   0.037201  0.365029   \n",
       "2019-01-24 00:02:00     0.086384    0.288362   0.046535  0.206777   \n",
       "2019-01-24 00:03:00     0.035975    0.284875   0.047974  0.251630   \n",
       "2019-01-24 00:04:00     0.036420    0.287374   0.047378  0.288386   \n",
       "\n",
       "                                    time  \n",
       "time                                      \n",
       "2019-01-24 00:00:00  2019-01-24 00:00:00  \n",
       "2019-01-24 00:01:00  2019-01-24 00:01:00  \n",
       "2019-01-24 00:02:00  2019-01-24 00:02:00  \n",
       "2019-01-24 00:03:00  2019-01-24 00:03:00  \n",
       "2019-01-24 00:04:00  2019-01-24 00:04:00  "
      ]
     },
     "execution_count": 4,
     "metadata": {},
     "output_type": "execute_result"
    }
   ],
   "source": [
    "latency_category_data.head()"
   ]
  },
  {
   "cell_type": "code",
   "execution_count": 5,
   "metadata": {
    "collapsed": true
   },
   "outputs": [],
   "source": [
    "#latency_category_data.index = latency_category_data.index.map(lambda x: x.replace(second=0))\n",
    "#latency_category_data.index = latency_category_data.index.map(lambda x: x.replace(microsecond=0))\n",
    "#latency_category_data = latency_category_data.ix['2019-02-10 00:00':'2019-02-15 00:00']\n",
    "latency_category_data = latency_category_data.sort_index()\n",
    "#category_data.to_csv('help.csv')\n",
    "counted_df = latency_category_data.groupby([latency_category_data.index, latency_category_data['category']]).count()['latency'].unstack()\n",
    "#print(counted_df)\n",
    "counted_df.resample('H').mean().to_csv('category_out1.csv')"
   ]
  },
  {
   "cell_type": "code",
   "execution_count": 36,
   "metadata": {},
   "outputs": [
    {
     "name": "stdout",
     "output_type": "stream",
     "text": [
      "             Bad       Good\n",
      "count  22.000000  22.000000\n",
      "mean    6.295053  13.045455\n",
      "std     0.740717   2.046013\n",
      "min     3.607843  11.000000\n",
      "25%     5.991667  11.754167\n",
      "50%     6.433333  12.200000\n",
      "75%     6.720833  13.591667\n",
      "max     7.116667  19.766667\n"
     ]
    },
    {
     "data": {
      "image/png": "[encoded data removed]",
      "text/plain": [
       "<Figure size 432x288 with 1 Axes>"
      ]
     },
     "metadata": {
      "needs_background": "light"
     },
     "output_type": "display_data"
    }
   ],
   "source": [
    "category_latency = pd.read_csv('category_out1.csv')\n",
    "category_latency = category_latency.set_index(pd.DatetimeIndex(category_latency.time))\n",
    "category_latency = category_latency.query('Good <= 20')\n",
    "\n",
    "#category_df = pd.read_csv('category_out.csv')\n",
    "#category_df = category_df.set_index(pd.DatetimeIndex(category_df.time))\n",
    "\n",
    "#getECDF(category_df,'Good').plot()\n",
    "#getECDF(category_df,'Inconsistent').plot()\n",
    "#getECDF(category_df,'Bad').plot()\n",
    "\n",
    "print(category_latency.describe())\n",
    "\n",
    "category_latency.plot()\n",
    "plt.show()"
   ]
  },
  {
   "cell_type": "code",
   "execution_count": 15,
   "metadata": {},
   "outputs": [
    {
     "data": {
      "image/png": "[encoded data removed]",
      "text/plain": [
       "<matplotlib.figure.Figure at 0x7fe3e8630940>"
      ]
     },
     "metadata": {},
     "output_type": "display_data"
    }
   ],
   "source": [
    "category = pd.read_csv('categorization.csv')\n",
    "category.plot.bar(x='Type', rot=0)\n",
    "plt.ylabel('Number of gateways')\n",
    "plt.show()"
   ]
  },
  {
   "cell_type": "code",
   "execution_count": 17,
   "metadata": {},
   "outputs": [
    {
     "name": "stdout",
     "output_type": "stream",
     "text": [
      "category\n",
      "Bad                     [proxy.smc.guifi.net, 10.138.85.130, 10.139.94...\n",
      "Good                    [10.139.40.122, proxy.perafita.guifi.net, 10.1...\n",
      "Inconsistent good       [proxy.elpipa.guifi.net, proxy.muntanyola.guif...\n",
      "Inconsistent limited    [proxy.malla.guifi.net, 10.140.93.35, proxy.el...\n",
      "Name: gateway, dtype: object\n"
     ]
    }
   ],
   "source": [
    "print(category_data.groupby('category')['gateway'].unique())"
   ]
  },
  {
   "cell_type": "code",
   "execution_count": null,
   "metadata": {
    "collapsed": true
   },
   "outputs": [],
   "source": []
  }
 ],
 "metadata": {
  "kernelspec": {
   "display_name": "Python 3",
   "language": "python",
   "name": "python3"
  },
  "language_info": {
   "codemirror_mode": {
    "name": "ipython",
    "version": 3
   },
   "file_extension": ".py",
   "mimetype": "text/x-python",
   "name": "python",
   "nbconvert_exporter": "python",
   "pygments_lexer": "ipython3",
   "version": "3.6.7"
  }
 },
 "nbformat": 4,
 "nbformat_minor": 2
}
