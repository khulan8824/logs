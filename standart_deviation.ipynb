{
 "cells": [
  {
   "cell_type": "code",
   "execution_count": 123,
   "metadata": {},
   "outputs": [],
   "source": [
    "import os\n",
    "#import ipdb\n",
    "\n",
    "import pandas as pd\n",
    "import matplotlib as mpl\n",
    "from matplotlib import lines\n",
    "from matplotlib import pyplot as plt\n",
    "import matplotlib.dates as mdates\n",
    "import seaborn as sns\n",
    "\n",
    "EXP_NAME = \"c10\"\n",
    "headers = ['time','start_transfer', 'latency','gateway','status']\n",
    "def read_client():\n",
    "    INPUT_DIR = os.path.join( os.getcwd(), EXP_NAME)\n",
    "    data = pd.DataFrame()\n",
    "    dirs = [f for f in os.listdir(INPUT_DIR) if os.path.isdir(os.path.join(INPUT_DIR))]    \n",
    "    for client in dirs:\n",
    "        client_data = pd.read_csv(os.path.join(INPUT_DIR, client), sep=',')\n",
    "        client_data.columns= headers\n",
    "        client_data = client_data.set_index(pd.DatetimeIndex(client_data.time))\n",
    "        client_data = client_data.query('status == 200')\n",
    "        data = pd.concat([data, client_data])\n",
    "    return data\n",
    "    \n",
    "def getECDF(df,column):\n",
    "    \"\"\"Helper function that caclulates the ECDF of a dataframe\"\"\"\n",
    "    df = df[column].value_counts()\n",
    "    ecdf = df.sort_index().cumsum()*1./df.sum()    \n",
    "    return ecdf"
   ]
  },
  {
   "cell_type": "code",
   "execution_count": 134,
   "metadata": {},
   "outputs": [
    {
     "name": "stdout",
     "output_type": "stream",
     "text": [
      "10.138.120.66 0.055733250000000005\n",
      "10.138.25.67 0.0566585\n",
      "10.138.57.2 0.05533300000000001\n",
      "10.138.85.130 0.5409079999999999\n",
      "10.139.17.4 0.11169075000000002\n",
      "10.139.37.194 0.47328\n",
      "10.139.40.122 0.040257999999999995\n",
      "10.139.40.85 0.062155999999999996\n",
      "10.139.94.98 0.769949\n",
      "10.140.93.35 0.9485190000000001\n",
      "10.228.192.210 0.344778\n",
      "10.228.193.210 0.460137\n",
      "proxy.cecilia.guifi.net 0.06765125\n",
      "proxy.elpipa.guifi.net 0.06841325000000001\n",
      "proxy.malla.guifi.net 0.309249\n",
      "proxy.muntanyola.guifi.net 0.06796125\n",
      "proxy.olost.guifi.net 0.068374\n",
      "proxy.perafita.guifi.net 0.067816\n",
      "proxy.sbll.guifi.net 0.50267825\n",
      "proxy.smc.guifi.net 4.990053\n"
     ]
    }
   ],
   "source": [
    "data = read_client()\n",
    "std_data = pd.DataFrame()\n",
    "\n",
    "std_data = data['latency'].sort_index().rolling('5T').std().to_frame()\n",
    "mean_data = data['latency'].sort_index().rolling('1T').mean().to_frame()\n",
    "general  = pd.merge(std_data, mean_data, how='inner', left_index=True, right_index=True)\n",
    "general.columns = ['std','mean']\n",
    "#std_data.to_csv('std_dev/general_std.csv')\n",
    "\n",
    "for name, group in data.groupby(data['gateway']):\n",
    "    group_std = pd.DataFrame()\n",
    "    group_std = group['latency'].rolling('5T').std().to_frame()\n",
    "    group_mean = group['latency'].rolling('1T').mean().to_frame()\n",
    "    group_data = pd.merge(group_std, group_mean, how='inner', left_index=True, right_index=True)\n",
    "    group_data.columns = ['std', 'mean']\n",
    "    merged = pd.merge(group_data, general, how='inner', left_index=True, right_index=True)\n",
    "    merged.columns = ['std', 'latency', 'all_std','mean_latency']\n",
    "    merged.to_csv('std_dev/'+name+'.csv')\n",
    "    print(name, group.latency.quantile(0.75))\n",
    "    #group['latency'].plot()\n",
    "\n",
    "#plt.ylim(0,1)\n",
    "#plt.show()"
   ]
  },
  {
   "cell_type": "code",
   "execution_count": null,
   "metadata": {
    "collapsed": true
   },
   "outputs": [],
   "source": []
  },
  {
   "cell_type": "code",
   "execution_count": 109,
   "metadata": {},
   "outputs": [
    {
     "name": "stderr",
     "output_type": "stream",
     "text": [
      "/home/khulan/.local/lib/python3.6/site-packages/ipykernel_launcher.py:22: DeprecationWarning: \n",
      ".ix is deprecated. Please use\n",
      ".loc for label based indexing or\n",
      ".iloc for positional indexing\n",
      "\n",
      "See the documentation here:\n",
      "http://pandas.pydata.org/pandas-docs/stable/indexing.html#ix-indexer-is-deprecated\n"
     ]
    },
    {
     "name": "stdout",
     "output_type": "stream",
     "text": [
      "10.140.93.35.csv\n",
      "proxy.cecilia.guifi.net.csv\n",
      "proxy.sbll.guifi.net.csv\n",
      "10.139.37.194.csv\n",
      "proxy.elpipa.guifi.net.csv\n",
      "proxy.muntanyola.guifi.net.csv\n",
      "proxy.malla.guifi.net.csv\n",
      "10.139.40.122.csv\n",
      "10.138.57.2.csv\n",
      "proxy.olost.guifi.net.csv\n",
      "10.138.120.66.csv\n",
      "10.228.192.210.csv\n",
      "10.228.193.210.csv\n",
      "10.139.94.98.csv\n",
      "proxy.smc.guifi.net.csv\n",
      "10.138.25.67.csv\n",
      "proxy.perafita.guifi.net.csv\n",
      "10.139.40.85.csv\n",
      "10.139.17.4.csv\n",
      "10.138.85.130.csv\n"
     ]
    }
   ],
   "source": [
    "import os\n",
    "#import ipdb\n",
    "\n",
    "import pandas as pd\n",
    "import matplotlib as mpl\n",
    "from matplotlib import lines\n",
    "from matplotlib import pyplot as plt\n",
    "import matplotlib.dates as mdates\n",
    "import seaborn as sns\n",
    "\n",
    "EXP_NAME = \"std_dev\"\n",
    "# Read all standard deviation files of each gateway node and count what category nodes are at each time period\n",
    "def read_std():\n",
    "    INPUT_DIR = os.path.join( os.getcwd(), EXP_NAME)\n",
    "    data = pd.DataFrame()\n",
    "    dirs = [f for f in os.listdir(INPUT_DIR) if os.path.isdir(os.path.join(INPUT_DIR))]    \n",
    "    for client in dirs:\n",
    "        client_data = pd.read_csv(os.path.join(INPUT_DIR, client), sep=',')\n",
    "        client_data = client_data.set_index(pd.DatetimeIndex(client_data.time))\n",
    "        #client_data = client_data.tail(1000)\n",
    "        \n",
    "        client_data = client_data.ix['2019-02-10 00:00':'2019-02-19 00:00']\n",
    "        print(client)\n",
    "        for index, row in client_data.iterrows():\n",
    "            if row['mean_latency'] is None:\n",
    "                continue\n",
    "            if row['latency'] <= row['mean_latency']:\n",
    "                if row['std'] <= row['all_std']:\n",
    "                    client_data.loc[index, 'category'] = 'Good'\n",
    "                else:\n",
    "                    client_data.loc[index, 'category'] = 'Inconsistent'\n",
    "            else:\n",
    "                if row['std'] < row['all_std']:\n",
    "                    client_data.loc[index, 'category'] = 'Inconsistent'\n",
    "                else:\n",
    "                    client_data.loc[index, 'category'] = 'Bad'\n",
    "        \n",
    "        data = pd.concat([data, client_data])\n",
    "    return data\n",
    "category_data = read_std()"
   ]
  },
  {
   "cell_type": "code",
   "execution_count": 110,
   "metadata": {},
   "outputs": [
    {
     "name": "stderr",
     "output_type": "stream",
     "text": [
      "/home/khulan/.local/lib/python3.6/site-packages/ipykernel_launcher.py:3: DeprecationWarning: \n",
      ".ix is deprecated. Please use\n",
      ".loc for label based indexing or\n",
      ".iloc for positional indexing\n",
      "\n",
      "See the documentation here:\n",
      "http://pandas.pydata.org/pandas-docs/stable/indexing.html#ix-indexer-is-deprecated\n",
      "  This is separate from the ipykernel package so we can avoid doing imports until\n"
     ]
    }
   ],
   "source": [
    "category_data.index = category_data.index.map(lambda x: x.replace(second=0))\n",
    "category_data.index = category_data.index.map(lambda x: x.replace(microsecond=0))\n",
    "category_data = category_data.ix['2019-02-10 00:00':'2019-02-15 00:00']\n",
    "category_data = category_data.sort_index()\n",
    "#category_data.to_csv('help.csv')\n",
    "counted_df = category_data.groupby([category_data.index, category_data['category']]).count()['latency'].unstack()\n",
    "#print(counted_df)\n",
    "counted_df.resample('H').mean().to_csv('category_out.csv')\n",
    "\n",
    "#counted_df.resample('H').mean().plot()\n",
    "#plt.show()\n"
   ]
  },
  {
   "cell_type": "code",
   "execution_count": 113,
   "metadata": {
    "collapsed": true
   },
   "outputs": [
    {
     "name": "stdout",
     "output_type": "stream",
     "text": [
      "             Bad       Good  Inconsistent\n",
      "count  61.000000  61.000000     61.000000\n",
      "mean    1.187330  11.877936      5.218452\n",
      "std     0.145365   1.025390      0.776704\n",
      "min     1.000000   9.883333      3.500000\n",
      "25%     1.081081  11.300000      4.679245\n",
      "50%     1.179487  11.666667      5.316667\n",
      "75%     1.250000  12.483333      5.700000\n",
      "max     1.636364  14.350000      6.666667\n"
     ]
    },
    {
     "data": {
      "image/png": "[encoded data removed]",
      "text/plain": [
       "<matplotlib.figure.Figure at 0x7f763db329b0>"
      ]
     },
     "metadata": {},
     "output_type": "display_data"
    }
   ],
   "source": [
    "category_df = pd.read_csv('category_out.csv')\n",
    "category_df = category_df.set_index(pd.DatetimeIndex(category_df.time))\n",
    "#getECDF(category_df,'Good').plot()\n",
    "#getECDF(category_df,'Inconsistent').plot()\n",
    "#getECDF(category_df,'Bad').plot()\n",
    "\n",
    "print(category_df.describe())\n",
    "plt.show()\n",
    "\n",
    "category_df.plot()\n",
    "plt.show()"
   ]
  },
  {
   "cell_type": "code",
   "execution_count": null,
   "metadata": {},
   "outputs": [],
   "source": []
  }
 ],
 "metadata": {
  "kernelspec": {
   "display_name": "Python 3",
   "language": "python",
   "name": "python3"
  },
  "language_info": {
   "codemirror_mode": {
    "name": "ipython",
    "version": 3
   },
   "file_extension": ".py",
   "mimetype": "text/x-python",
   "name": "python",
   "nbconvert_exporter": "python",
   "pygments_lexer": "ipython3",
   "version": "3.6.0"
  }
 },
 "nbformat": 4,
 "nbformat_minor": 2
}
