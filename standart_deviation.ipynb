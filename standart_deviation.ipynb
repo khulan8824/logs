{
 "cells": [
  {
   "cell_type": "code",
   "execution_count": 86,
   "metadata": {
    "collapsed": true
   },
   "outputs": [],
   "source": [
    "import os\n",
    "#import ipdb\n",
    "\n",
    "import pandas as pd\n",
    "import matplotlib as mpl\n",
    "from matplotlib import lines\n",
    "from matplotlib import pyplot as plt\n",
    "import matplotlib.dates as mdates\n",
    "import seaborn as sns\n",
    "\n",
    "EXP_NAME = \"c10\"\n",
    "headers = ['time','start_transfer', 'latency','gateway','status']\n",
    "def read_client():\n",
    "    INPUT_DIR = os.path.join( os.getcwd(), EXP_NAME)\n",
    "    data = pd.DataFrame()\n",
    "    dirs = [f for f in os.listdir(INPUT_DIR) if os.path.isdir(os.path.join(INPUT_DIR))]    \n",
    "    for client in dirs:\n",
    "        client_data = pd.read_csv(os.path.join(INPUT_DIR, client), sep=',')\n",
    "        client_data.columns= headers\n",
    "        client_data = client_data.set_index(pd.DatetimeIndex(client_data.time))\n",
    "        client_data = client_data.query('status == 200')\n",
    "        data = pd.concat([data, client_data])\n",
    "    return data\n",
    "    \n",
    "def getECDF(df):\n",
    "    \"\"\"Helper function that caclulates the ECDF of a dataframe\"\"\"\n",
    "    df = df.value_counts()\n",
    "    ecdf = df.sort_index().cumsum()*1./df.sum()    \n",
    "    return ecdf"
   ]
  },
  {
   "cell_type": "code",
   "execution_count": 87,
   "metadata": {},
   "outputs": [],
   "source": [
    "data = read_client()\n",
    "std_data = pd.DataFrame()\n",
    "\n",
    "std_data = data['latency'].sort_index().rolling('10T').std().to_frame()\n",
    "mean_data = data['latency'].sort_index().rolling('1T').mean().to_frame()\n",
    "general  = pd.merge(std_data, mean_data, how='inner', left_index=True, right_index=True)\n",
    "general.columns = ['std','mean']\n",
    "std_data.to_csv('std_dev/general_std.csv')\n",
    "\n",
    "for name, group in data.groupby(data['gateway']):\n",
    "    group_std = pd.DataFrame()\n",
    "    group_std = group['latency'].rolling('10T').std().to_frame()\n",
    "    group_mean = group['latency'].rolling('1T').mean().to_frame()\n",
    "    group_data = pd.merge(group_std, group_mean, how='inner', left_index=True, right_index=True)\n",
    "    group_data.columns = ['std', 'mean']\n",
    "    merged = pd.merge(group_data, general, how='inner', left_index=True, right_index=True)\n",
    "    merged.columns = ['std', 'latency', 'all_std','mean_latency']\n",
    "    merged.to_csv('std_dev/'+name+'.csv')\n",
    "    \n"
   ]
  },
  {
   "cell_type": "code",
   "execution_count": 94,
   "metadata": {},
   "outputs": [
    {
     "name": "stdout",
     "output_type": "stream",
     "text": [
      "10.140.93.35.csv\n",
      "proxy.cecilia.guifi.net.csv\n",
      "proxy.sbll.guifi.net.csv\n",
      "10.139.37.194.csv\n",
      "proxy.elpipa.guifi.net.csv\n",
      "proxy.muntanyola.guifi.net.csv\n",
      "proxy.malla.guifi.net.csv\n",
      "10.139.40.122.csv\n",
      "10.138.57.2.csv\n",
      "proxy.olost.guifi.net.csv\n",
      "10.138.120.66.csv\n",
      "10.228.192.210.csv\n",
      "10.228.193.210.csv\n",
      "10.139.94.98.csv\n",
      "proxy.smc.guifi.net.csv\n",
      "10.138.25.67.csv\n",
      "proxy.perafita.guifi.net.csv\n",
      "10.139.40.85.csv\n",
      "10.139.17.4.csv\n",
      "10.138.85.130.csv\n"
     ]
    }
   ],
   "source": [
    "import os\n",
    "#import ipdb\n",
    "\n",
    "import pandas as pd\n",
    "import matplotlib as mpl\n",
    "from matplotlib import lines\n",
    "from matplotlib import pyplot as plt\n",
    "import matplotlib.dates as mdates\n",
    "import seaborn as sns\n",
    "\n",
    "EXP_NAME = \"std_dev\"\n",
    "# Read all standard deviation files of each gateway node and count what category nodes are at each time period\n",
    "def read_std():\n",
    "    INPUT_DIR = os.path.join( os.getcwd(), EXP_NAME)\n",
    "    data = pd.DataFrame()\n",
    "    dirs = [f for f in os.listdir(INPUT_DIR) if os.path.isdir(os.path.join(INPUT_DIR))]    \n",
    "    for client in dirs:\n",
    "        client_data = pd.read_csv(os.path.join(INPUT_DIR, client), sep=',')\n",
    "        client_data = client_data.set_index(pd.DatetimeIndex(client_data.time))\n",
    "        client_data = client_data.head(1000)\n",
    "        print(client)\n",
    "        for index, row in client_data.iterrows():\n",
    "            if row['mean_latency'] is None:\n",
    "                continue\n",
    "            if row['latency'] < row['mean_latency']:\n",
    "                if row['std'] < row['all_std']:\n",
    "                    client_data.loc[index, 'category'] = 'Good'\n",
    "                else:\n",
    "                    client_data.loc[index, 'category'] = 'Inconsistent'\n",
    "            else:\n",
    "                if row['std'] < row['all_std']:\n",
    "                    client_data.loc[index, 'category'] = 'Inconsistent'\n",
    "                else:\n",
    "                    client_data.loc[index, 'category'] = 'Bad'\n",
    "        \n",
    "        data = pd.concat([data, client_data])\n",
    "    return data\n",
    "category_data = read_std()"
   ]
  },
  {
   "cell_type": "code",
   "execution_count": null,
   "metadata": {},
   "outputs": [],
   "source": [
    "for name, group in category_data.groupby([category_data.index, category_data['category']]):\n",
    "    print(name, len(group))"
   ]
  },
  {
   "cell_type": "code",
   "execution_count": null,
   "metadata": {
    "collapsed": true
   },
   "outputs": [],
   "source": []
  }
 ],
 "metadata": {
  "kernelspec": {
   "display_name": "Python 3",
   "language": "python",
   "name": "python3"
  },
  "language_info": {
   "codemirror_mode": {
    "name": "ipython",
    "version": 3
   },
   "file_extension": ".py",
   "mimetype": "text/x-python",
   "name": "python",
   "nbconvert_exporter": "python",
   "pygments_lexer": "ipython3",
   "version": "3.6.0"
  }
 },
 "nbformat": 4,
 "nbformat_minor": 2
}
