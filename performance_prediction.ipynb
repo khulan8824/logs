{
 "cells": [
  {
   "cell_type": "code",
   "execution_count": 4,
   "metadata": {},
   "outputs": [
    {
     "name": "stdout",
     "output_type": "stream",
     "text": [
      "/home/khulan/anaconda3/bin/python\n",
      "Requirement already satisfied: pandas in /home/khulan/anaconda3/lib/python3.6/site-packages (0.25.3)\n",
      "Requirement already satisfied: python-dateutil>=2.6.1 in /home/khulan/anaconda3/lib/python3.6/site-packages (from pandas) (2.6.1)\n",
      "Requirement already satisfied: pytz>=2017.2 in /home/khulan/anaconda3/lib/python3.6/site-packages (from pandas) (2017.3)\n",
      "Requirement already satisfied: numpy>=1.13.3 in /home/khulan/anaconda3/lib/python3.6/site-packages (from pandas) (1.17.3)\n",
      "Requirement already satisfied: six>=1.5 in /home/khulan/anaconda3/lib/python3.6/site-packages (from python-dateutil>=2.6.1->pandas) (1.11.0)\n"
     ]
    }
   ],
   "source": [
    "import sys\n",
    "print(sys.executable)\n",
    "!pip install pandas"
   ]
  },
  {
   "cell_type": "code",
   "execution_count": 132,
   "metadata": {},
   "outputs": [],
   "source": [
    "import pandas as pd\n",
    "import matplotlib as mpl\n",
    "from matplotlib import lines\n",
    "from matplotlib import pyplot as plt\n",
    "import matplotlib.dates as mdates\n",
    "from sklearn import linear_model\n",
    "from statsmodels.tsa.ar_model import AR\n",
    "from sklearn.metrics import mean_squared_error\n",
    "\n",
    "window = 20\n",
    "prediction_window = 5\n",
    "category = pd.read_csv('categorized.csv')\n",
    "category.index= category.set_index(pd.DatetimeIndex(category.time))\n",
    "for name, group in category.groupby(category['gateway']):\n",
    "    group= group.set_index(pd.DatetimeIndex(group.time))\n",
    "    errors = pd.DataFrame()\n",
    "    for index, row in group.iterrows():\n",
    "        if row['category'] == 'Good' and row['count_inconsistent']<row['count_good'] :\n",
    "            train_window = group[index-pd.Timedelta(minutes=window): index]['latency'].values\n",
    "            if len(train_window)>window:                \n",
    "                test_window = group[index+pd.Timedelta(minutes=1): index+pd.Timedelta(minutes=(prediction_window))]['latency'].values\n",
    "                model = AR(train_window)\n",
    "                model_fit = model.fit()\n",
    "                predictions = model_fit.predict(start=(window+1), end=(window+prediction_window), dynamic=False)\n",
    "                \n",
    "                if len(test_window) == len(predictions):\n",
    "                    error = mean_squared_error(test_window, predictions)\n",
    "                    errors = errors.append({'time':index, 'error':error},ignore_index=True)\n",
    "\n",
    "    if len(errors) >0:\n",
    "        errors = errors.set_index(errors['time'])\n",
    "        errors.to_csv('AR/'+str(prediction_window)+'/prediction_errors/'+name+'.csv')\n",
    "            \n",
    "            "
   ]
  },
  {
   "cell_type": "code",
   "execution_count": 133,
   "metadata": {},
   "outputs": [
    {
     "data": {
      "image/png": "[encoded data removed]",
      "text/plain": [
       "<matplotlib.figure.Figure at 0x7ff85b5859b0>"
      ]
     },
     "metadata": {},
     "output_type": "display_data"
    }
   ],
   "source": [
    "import os\n",
    "def getECDF(df,column):\n",
    "    \"\"\"Helper function that caclulates the ECDF of a dataframe\"\"\"\n",
    "    df = df[column].value_counts()\n",
    "    ecdf = df.sort_index().cumsum()*1./df.sum()\n",
    "    return ecdf\n",
    "legends = []\n",
    "for dir1 in os.listdir('AR'): \n",
    "    legends.append('prediction step='+dir1)\n",
    "    client_data = pd.DataFrame()\n",
    "    data = pd.DataFrame()\n",
    "    INPUT_DIR = os.path.join( os.getcwd(), 'AR/'+dir1+'/prediction_errors')\n",
    "    data = pd.DataFrame()\n",
    "    dirs = [f for f in os.listdir(INPUT_DIR) if os.path.isdir(os.path.join(INPUT_DIR))]    \n",
    "    for client in dirs:\n",
    "        client_data = pd.read_csv(os.path.join(INPUT_DIR, client), sep=',')\n",
    "        client_data.columns= ['time','error','time1']\n",
    "        client_data = client_data.set_index(pd.DatetimeIndex(client_data['time']))\n",
    "        client_data = client_data.query('error<2')\n",
    "        data = pd.concat([data, client_data])\n",
    "\n",
    "    grouped = data.groupby(data.index).mean()\n",
    "    getECDF(grouped, 'error').plot()\n",
    "     \n",
    "plt.legend(legends)\n",
    "plt.xlabel('Average prediction MSE')\n",
    "plt.ylabel('ECDF')\n",
    "plt.xlim(0,0.2)\n",
    "\n",
    "\n",
    "\n",
    "plt.show()\n",
    "#plt.ylim(0,0.001)\n"
   ]
  },
  {
   "cell_type": "code",
   "execution_count": null,
   "metadata": {
    "collapsed": true
   },
   "outputs": [],
   "source": []
  }
 ],
 "metadata": {
  "kernelspec": {
   "display_name": "Python 3",
   "language": "python",
   "name": "python3"
  },
  "language_info": {
   "codemirror_mode": {
    "name": "ipython",
    "version": 3
   },
   "file_extension": ".py",
   "mimetype": "text/x-python",
   "name": "python",
   "nbconvert_exporter": "python",
   "pygments_lexer": "ipython3",
   "version": "3.6.7"
  }
 },
 "nbformat": 4,
 "nbformat_minor": 2
}
